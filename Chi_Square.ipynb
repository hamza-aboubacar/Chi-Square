{
  "nbformat": 4,
  "nbformat_minor": 0,
  "metadata": {
    "colab": {
      "provenance": []
    },
    "kernelspec": {
      "name": "python3",
      "display_name": "Python 3"
    },
    "language_info": {
      "name": "python"
    }
  },
  "cells": [
    {
      "cell_type": "code",
      "execution_count": 1,
      "metadata": {
        "colab": {
          "base_uri": "https://localhost:8080/"
        },
        "id": "Cpd1Xvh2M0gS",
        "outputId": "e264a4f7-f8f2-4626-d11c-4a8f76268798"
      },
      "outputs": [
        {
          "output_type": "stream",
          "name": "stdout",
          "text": [
            "Chi-Square Test for Independence Results:\n",
            "Chi-Square Statistic: 5.64\n",
            "Degrees of Freedom: 4\n",
            "Critical Value at alpha = 0.05: 9.49\n",
            "P-Value: 0.2278\n",
            "Decision: Do not reject the null hypothesis.\n",
            "Conclusion: There is no significant association between the type of smart home device and customer satisfaction level.\n"
          ]
        }
      ],
      "source": [
        "import numpy as np\n",
        "import scipy.stats as stats\n",
        "\n",
        "# Step 1: Define the hypotheses\n",
        "# Null Hypothesis (H0): There is no association between the type of smart home device and customer satisfaction level.\n",
        "# Alternative Hypothesis (H1): There is an association between the type of smart home device and customer satisfaction level.\n",
        "\n",
        "# Step 2: Organize the data into a contingency table\n",
        "# Observed frequencies for customer satisfaction levels by device type\n",
        "observed = np.array([\n",
        "    [50, 70],     # Very Satisfied\n",
        "    [80, 100],    # Satisfied\n",
        "    [60, 90],     # Neutral\n",
        "    [30, 50],     # Unsatisfied\n",
        "    [20, 50]      # Very Unsatisfied\n",
        "])\n",
        "\n",
        "# Step 3: Perform the Chi-Square test for independence\n",
        "chi2_statistic, p_value, dof, expected = stats.chi2_contingency(observed)\n",
        "\n",
        "# Step 4: Determine the Critical Value\n",
        "alpha = 0.05                       # Significance level\n",
        "critical_value = stats.chi2.ppf(1 - alpha, dof)  # Chi-Square critical value\n",
        "\n",
        "# Step 5: Make a Decision\n",
        "# Compare the Chi-Square statistic with the critical value\n",
        "reject_null = chi2_statistic > critical_value\n",
        "\n",
        "# Step 6: Conclusion\n",
        "if reject_null:\n",
        "    conclusion = \"There is a significant association between the type of smart home device and customer satisfaction level.\"\n",
        "else:\n",
        "    conclusion = \"There is no significant association between the type of smart home device and customer satisfaction level.\"\n",
        "\n",
        "# Print results\n",
        "print(\"Chi-Square Test for Independence Results:\")\n",
        "print(f\"Chi-Square Statistic: {chi2_statistic:.2f}\")\n",
        "print(f\"Degrees of Freedom: {dof}\")\n",
        "print(f\"Critical Value at alpha = {alpha}: {critical_value:.2f}\")\n",
        "print(f\"P-Value: {p_value:.4f}\")\n",
        "print(f\"Decision: {'Reject' if reject_null else 'Do not reject'} the null hypothesis.\")\n",
        "print(\"Conclusion:\", conclusion)\n"
      ]
    },
    {
      "cell_type": "code",
      "source": [],
      "metadata": {
        "id": "dcuc0hb7NK9r"
      },
      "execution_count": null,
      "outputs": []
    }
  ]
}